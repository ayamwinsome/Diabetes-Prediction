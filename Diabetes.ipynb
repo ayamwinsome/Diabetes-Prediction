{
 "cells": [
  {
   "cell_type": "code",
   "execution_count": 41,
   "metadata": {},
   "outputs": [],
   "source": [
    "import numpy as np\n",
    "import pandas as pd \n",
    "import matplotlib.pyplot as plt\n",
    "import tensorflow as tf\n",
    "from time import time"
   ]
  },
  {
   "cell_type": "code",
   "execution_count": 42,
   "metadata": {},
   "outputs": [],
   "source": [
    "data = pd.read_csv('diabetes.csv')"
   ]
  },
  {
   "cell_type": "code",
   "execution_count": 43,
   "metadata": {},
   "outputs": [
    {
     "data": {
      "text/html": [
       "<div>\n",
       "<style scoped>\n",
       "    .dataframe tbody tr th:only-of-type {\n",
       "        vertical-align: middle;\n",
       "    }\n",
       "\n",
       "    .dataframe tbody tr th {\n",
       "        vertical-align: top;\n",
       "    }\n",
       "\n",
       "    .dataframe thead th {\n",
       "        text-align: right;\n",
       "    }\n",
       "</style>\n",
       "<table border=\"1\" class=\"dataframe\">\n",
       "  <thead>\n",
       "    <tr style=\"text-align: right;\">\n",
       "      <th></th>\n",
       "      <th>6</th>\n",
       "      <th>148</th>\n",
       "      <th>72</th>\n",
       "      <th>35</th>\n",
       "      <th>0</th>\n",
       "      <th>33.6</th>\n",
       "      <th>0.627</th>\n",
       "      <th>50</th>\n",
       "      <th>1</th>\n",
       "    </tr>\n",
       "  </thead>\n",
       "  <tbody>\n",
       "    <tr>\n",
       "      <th>0</th>\n",
       "      <td>1</td>\n",
       "      <td>85</td>\n",
       "      <td>66</td>\n",
       "      <td>29</td>\n",
       "      <td>0</td>\n",
       "      <td>26.6</td>\n",
       "      <td>0.351</td>\n",
       "      <td>31</td>\n",
       "      <td>0</td>\n",
       "    </tr>\n",
       "    <tr>\n",
       "      <th>1</th>\n",
       "      <td>8</td>\n",
       "      <td>183</td>\n",
       "      <td>64</td>\n",
       "      <td>0</td>\n",
       "      <td>0</td>\n",
       "      <td>23.3</td>\n",
       "      <td>0.672</td>\n",
       "      <td>32</td>\n",
       "      <td>1</td>\n",
       "    </tr>\n",
       "    <tr>\n",
       "      <th>2</th>\n",
       "      <td>1</td>\n",
       "      <td>89</td>\n",
       "      <td>66</td>\n",
       "      <td>23</td>\n",
       "      <td>94</td>\n",
       "      <td>28.1</td>\n",
       "      <td>0.167</td>\n",
       "      <td>21</td>\n",
       "      <td>0</td>\n",
       "    </tr>\n",
       "    <tr>\n",
       "      <th>3</th>\n",
       "      <td>0</td>\n",
       "      <td>137</td>\n",
       "      <td>40</td>\n",
       "      <td>35</td>\n",
       "      <td>168</td>\n",
       "      <td>43.1</td>\n",
       "      <td>2.288</td>\n",
       "      <td>33</td>\n",
       "      <td>1</td>\n",
       "    </tr>\n",
       "    <tr>\n",
       "      <th>4</th>\n",
       "      <td>5</td>\n",
       "      <td>116</td>\n",
       "      <td>74</td>\n",
       "      <td>0</td>\n",
       "      <td>0</td>\n",
       "      <td>25.6</td>\n",
       "      <td>0.201</td>\n",
       "      <td>30</td>\n",
       "      <td>0</td>\n",
       "    </tr>\n",
       "  </tbody>\n",
       "</table>\n",
       "</div>"
      ],
      "text/plain": [
       "   6  148  72  35    0  33.6  0.627  50  1\n",
       "0  1   85  66  29    0  26.6  0.351  31  0\n",
       "1  8  183  64   0    0  23.3  0.672  32  1\n",
       "2  1   89  66  23   94  28.1  0.167  21  0\n",
       "3  0  137  40  35  168  43.1  2.288  33  1\n",
       "4  5  116  74   0    0  25.6  0.201  30  0"
      ]
     },
     "execution_count": 43,
     "metadata": {},
     "output_type": "execute_result"
    }
   ],
   "source": [
    "data.head()"
   ]
  },
  {
   "cell_type": "code",
   "execution_count": 44,
   "metadata": {},
   "outputs": [],
   "source": [
    "from keras.models import Sequential\n",
    "from keras.layers import Dense"
   ]
  },
  {
   "cell_type": "code",
   "execution_count": 45,
   "metadata": {},
   "outputs": [
    {
     "data": {
      "text/plain": [
       "Index(['6', '148', '72', '35', '0', '33.6', '0.627', '50', '1'], dtype='object')"
      ]
     },
     "execution_count": 45,
     "metadata": {},
     "output_type": "execute_result"
    }
   ],
   "source": [
    "data.columns"
   ]
  },
  {
   "cell_type": "code",
   "execution_count": 46,
   "metadata": {},
   "outputs": [],
   "source": [
    "X = data[['6', '148', '72', '35', '0', '33.6', '0.627', '50']]"
   ]
  },
  {
   "cell_type": "code",
   "execution_count": 47,
   "metadata": {},
   "outputs": [],
   "source": [
    "y = data['1']"
   ]
  },
  {
   "cell_type": "code",
   "execution_count": 48,
   "metadata": {},
   "outputs": [
    {
     "name": "stdout",
     "output_type": "stream",
     "text": [
      "Requirement already satisfied: sklearn in c:\\users\\winsome\\appdata\\local\\conda\\conda\\envs\\tf\\lib\\site-packages (0.0)\n",
      "Requirement already satisfied: scikit-learn in c:\\users\\winsome\\appdata\\local\\conda\\conda\\envs\\tf\\lib\\site-packages (from sklearn) (0.23.2)\n",
      "Requirement already satisfied: numpy>=1.13.3 in c:\\users\\winsome\\appdata\\local\\conda\\conda\\envs\\tf\\lib\\site-packages (from scikit-learn->sklearn) (1.19.1)\n",
      "Requirement already satisfied: joblib>=0.11 in c:\\users\\winsome\\appdata\\local\\conda\\conda\\envs\\tf\\lib\\site-packages (from scikit-learn->sklearn) (0.16.0)\n",
      "Requirement already satisfied: scipy>=0.19.1 in c:\\users\\winsome\\appdata\\local\\conda\\conda\\envs\\tf\\lib\\site-packages (from scikit-learn->sklearn) (1.5.0)\n",
      "Requirement already satisfied: threadpoolctl>=2.0.0 in c:\\users\\winsome\\appdata\\local\\conda\\conda\\envs\\tf\\lib\\site-packages (from scikit-learn->sklearn) (2.1.0)\n"
     ]
    }
   ],
   "source": [
    "!pip install sklearn"
   ]
  },
  {
   "cell_type": "code",
   "execution_count": 49,
   "metadata": {},
   "outputs": [],
   "source": [
    "from sklearn.model_selection import train_test_split"
   ]
  },
  {
   "cell_type": "code",
   "execution_count": 50,
   "metadata": {},
   "outputs": [],
   "source": [
    "X_train, X_test, y_train, y_test = train_test_split(X, y, test_size=0.20, random_state=101)"
   ]
  },
  {
   "cell_type": "code",
   "execution_count": 51,
   "metadata": {},
   "outputs": [],
   "source": [
    "model =Sequential()"
   ]
  },
  {
   "cell_type": "code",
   "execution_count": 52,
   "metadata": {},
   "outputs": [],
   "source": [
    "model.add(Dense(12,input_dim = 8,activation = 'relu'))"
   ]
  },
  {
   "cell_type": "code",
   "execution_count": 53,
   "metadata": {},
   "outputs": [],
   "source": [
    "model.add(Dense( 8, activation = 'relu'))"
   ]
  },
  {
   "cell_type": "code",
   "execution_count": 54,
   "metadata": {},
   "outputs": [],
   "source": [
    "model.add(Dense(1, activation = 'sigmoid'))"
   ]
  },
  {
   "cell_type": "code",
   "execution_count": 55,
   "metadata": {},
   "outputs": [],
   "source": [
    "model.compile(loss = 'binary_crossentropy', optimizer ='adam',metrics =['accuracy'])"
   ]
  },
  {
   "cell_type": "code",
   "execution_count": 56,
   "metadata": {},
   "outputs": [
    {
     "name": "stdout",
     "output_type": "stream",
     "text": [
      "Epoch 1/150\n",
      "613/613 [==============================] - 1s 1ms/step - loss: 4.4937 - accuracy: 0.6444\n",
      "Epoch 2/150\n",
      "613/613 [==============================] - 0s 317us/step - loss: 2.3606 - accuracy: 0.6411\n",
      "Epoch 3/150\n",
      "613/613 [==============================] - 0s 349us/step - loss: 1.8926 - accuracy: 0.6591\n",
      "Epoch 4/150\n",
      "613/613 [==============================] - 0s 447us/step - loss: 1.5555 - accuracy: 0.6623\n",
      "Epoch 5/150\n",
      "613/613 [==============================] - 0s 333us/step - loss: 1.2986 - accuracy: 0.6639\n",
      "Epoch 6/150\n",
      "613/613 [==============================] - 0s 356us/step - loss: 1.1820 - accuracy: 0.6476\n",
      "Epoch 7/150\n",
      "613/613 [==============================] - 0s 400us/step - loss: 1.1147 - accuracy: 0.6476\n",
      "Epoch 8/150\n",
      "613/613 [==============================] - 0s 338us/step - loss: 0.9640 - accuracy: 0.65740s - loss: 0.9373 - accuracy: 0.\n",
      "Epoch 9/150\n",
      "613/613 [==============================] - 0s 308us/step - loss: 0.9520 - accuracy: 0.6411\n",
      "Epoch 10/150\n",
      "613/613 [==============================] - 0s 554us/step - loss: 0.8712 - accuracy: 0.6574\n",
      "Epoch 11/150\n",
      "613/613 [==============================] - 0s 324us/step - loss: 0.8256 - accuracy: 0.6525\n",
      "Epoch 12/150\n",
      "613/613 [==============================] - 0s 402us/step - loss: 0.8229 - accuracy: 0.6444\n",
      "Epoch 13/150\n",
      "613/613 [==============================] - 0s 389us/step - loss: 0.7855 - accuracy: 0.6558\n",
      "Epoch 14/150\n",
      "613/613 [==============================] - 0s 429us/step - loss: 0.7765 - accuracy: 0.6509\n",
      "Epoch 15/150\n",
      "613/613 [==============================] - 0s 376us/step - loss: 0.7351 - accuracy: 0.6656\n",
      "Epoch 16/150\n",
      "613/613 [==============================] - 0s 448us/step - loss: 0.7274 - accuracy: 0.6395\n",
      "Epoch 17/150\n",
      "613/613 [==============================] - 0s 371us/step - loss: 0.7468 - accuracy: 0.6672\n",
      "Epoch 18/150\n",
      "613/613 [==============================] - 0s 361us/step - loss: 0.6792 - accuracy: 0.6737\n",
      "Epoch 19/150\n",
      "613/613 [==============================] - 0s 477us/step - loss: 0.6587 - accuracy: 0.6884\n",
      "Epoch 20/150\n",
      "613/613 [==============================] - 0s 314us/step - loss: 0.6603 - accuracy: 0.6786\n",
      "Epoch 21/150\n",
      "613/613 [==============================] - 0s 356us/step - loss: 0.6623 - accuracy: 0.6803\n",
      "Epoch 22/150\n",
      "613/613 [==============================] - 0s 348us/step - loss: 0.6285 - accuracy: 0.6868\n",
      "Epoch 23/150\n",
      "613/613 [==============================] - 0s 346us/step - loss: 0.6166 - accuracy: 0.6982\n",
      "Epoch 24/150\n",
      "613/613 [==============================] - 0s 286us/step - loss: 0.6209 - accuracy: 0.6770\n",
      "Epoch 25/150\n",
      "613/613 [==============================] - 0s 380us/step - loss: 0.6510 - accuracy: 0.6949\n",
      "Epoch 26/150\n",
      "613/613 [==============================] - 0s 499us/step - loss: 0.6365 - accuracy: 0.6868\n",
      "Epoch 27/150\n",
      "613/613 [==============================] - 0s 405us/step - loss: 0.5991 - accuracy: 0.6998\n",
      "Epoch 28/150\n",
      "613/613 [==============================] - 0s 349us/step - loss: 0.6057 - accuracy: 0.6852\n",
      "Epoch 29/150\n",
      "613/613 [==============================] - 0s 308us/step - loss: 0.6034 - accuracy: 0.7096\n",
      "Epoch 30/150\n",
      "613/613 [==============================] - 0s 369us/step - loss: 0.6091 - accuracy: 0.6884\n",
      "Epoch 31/150\n",
      "613/613 [==============================] - 0s 398us/step - loss: 0.6072 - accuracy: 0.6998\n",
      "Epoch 32/150\n",
      "613/613 [==============================] - 0s 342us/step - loss: 0.5989 - accuracy: 0.7047\n",
      "Epoch 33/150\n",
      "613/613 [==============================] - 0s 347us/step - loss: 0.6064 - accuracy: 0.6982\n",
      "Epoch 34/150\n",
      "613/613 [==============================] - 0s 324us/step - loss: 0.5904 - accuracy: 0.7031\n",
      "Epoch 35/150\n",
      "613/613 [==============================] - 0s 418us/step - loss: 0.5895 - accuracy: 0.7145\n",
      "Epoch 36/150\n",
      "613/613 [==============================] - 0s 397us/step - loss: 0.6016 - accuracy: 0.6917\n",
      "Epoch 37/150\n",
      "613/613 [==============================] - 0s 270us/step - loss: 0.5827 - accuracy: 0.7178\n",
      "Epoch 38/150\n",
      "613/613 [==============================] - 0s 327us/step - loss: 0.5935 - accuracy: 0.7162\n",
      "Epoch 39/150\n",
      "613/613 [==============================] - 0s 322us/step - loss: 0.5757 - accuracy: 0.7259\n",
      "Epoch 40/150\n",
      "613/613 [==============================] - 0s 358us/step - loss: 0.5634 - accuracy: 0.7259\n",
      "Epoch 41/150\n",
      "613/613 [==============================] - 0s 286us/step - loss: 0.5725 - accuracy: 0.7194\n",
      "Epoch 42/150\n",
      "613/613 [==============================] - 0s 439us/step - loss: 0.5846 - accuracy: 0.7113\n",
      "Epoch 43/150\n",
      "613/613 [==============================] - 0s 426us/step - loss: 0.5586 - accuracy: 0.7145\n",
      "Epoch 44/150\n",
      "613/613 [==============================] - 0s 456us/step - loss: 0.5688 - accuracy: 0.7178\n",
      "Epoch 45/150\n",
      "613/613 [==============================] - 0s 397us/step - loss: 0.5535 - accuracy: 0.7341\n",
      "Epoch 46/150\n",
      "613/613 [==============================] - 0s 356us/step - loss: 0.5604 - accuracy: 0.7259\n",
      "Epoch 47/150\n",
      "613/613 [==============================] - 0s 436us/step - loss: 0.5630 - accuracy: 0.72760s - loss: 0.5301 - accuracy: 0.\n",
      "Epoch 48/150\n",
      "613/613 [==============================] - 0s 319us/step - loss: 0.5892 - accuracy: 0.7113\n",
      "Epoch 49/150\n",
      "613/613 [==============================] - ETA: 0s - loss: 0.5412 - accuracy: 0.73 - 0s 334us/step - loss: 0.5460 - accuracy: 0.7259\n",
      "Epoch 50/150\n",
      "613/613 [==============================] - 0s 415us/step - loss: 0.5419 - accuracy: 0.7374\n",
      "Epoch 51/150\n",
      "613/613 [==============================] - 0s 408us/step - loss: 0.5899 - accuracy: 0.6917\n",
      "Epoch 52/150\n",
      "613/613 [==============================] - 0s 366us/step - loss: 0.5588 - accuracy: 0.7178\n",
      "Epoch 53/150\n",
      "613/613 [==============================] - 0s 288us/step - loss: 0.5583 - accuracy: 0.7178\n",
      "Epoch 54/150\n",
      "613/613 [==============================] - 0s 344us/step - loss: 0.5800 - accuracy: 0.7031\n",
      "Epoch 55/150\n",
      "613/613 [==============================] - 0s 338us/step - loss: 0.5783 - accuracy: 0.7210\n",
      "Epoch 56/150\n",
      "613/613 [==============================] - 0s 356us/step - loss: 0.5849 - accuracy: 0.7015\n",
      "Epoch 57/150\n",
      "613/613 [==============================] - 0s 306us/step - loss: 0.5628 - accuracy: 0.7341\n",
      "Epoch 58/150\n",
      "613/613 [==============================] - 0s 353us/step - loss: 0.5338 - accuracy: 0.7162\n",
      "Epoch 59/150\n",
      "613/613 [==============================] - 0s 340us/step - loss: 0.5455 - accuracy: 0.7259\n",
      "Epoch 60/150\n",
      "613/613 [==============================] - 0s 512us/step - loss: 0.5389 - accuracy: 0.7276\n",
      "Epoch 61/150\n",
      "613/613 [==============================] - 0s 377us/step - loss: 0.5597 - accuracy: 0.7243\n",
      "Epoch 62/150\n",
      "613/613 [==============================] - 0s 387us/step - loss: 0.5494 - accuracy: 0.7210\n",
      "Epoch 63/150\n",
      "613/613 [==============================] - 0s 399us/step - loss: 0.5790 - accuracy: 0.7113\n",
      "Epoch 64/150\n",
      "613/613 [==============================] - 0s 390us/step - loss: 0.5426 - accuracy: 0.7259\n",
      "Epoch 65/150\n",
      "613/613 [==============================] - 0s 397us/step - loss: 0.5523 - accuracy: 0.7357\n",
      "Epoch 66/150\n",
      "613/613 [==============================] - 0s 355us/step - loss: 0.5640 - accuracy: 0.7292\n",
      "Epoch 67/150\n",
      "613/613 [==============================] - 0s 395us/step - loss: 0.5362 - accuracy: 0.7504\n",
      "Epoch 68/150\n",
      "613/613 [==============================] - 0s 246us/step - loss: 0.5282 - accuracy: 0.7374\n",
      "Epoch 69/150\n",
      "613/613 [==============================] - 0s 436us/step - loss: 0.5394 - accuracy: 0.7341\n",
      "Epoch 70/150\n",
      "613/613 [==============================] - 0s 353us/step - loss: 0.5491 - accuracy: 0.7210\n",
      "Epoch 71/150\n",
      "613/613 [==============================] - 0s 343us/step - loss: 0.5292 - accuracy: 0.7243\n",
      "Epoch 72/150\n",
      "613/613 [==============================] - 0s 456us/step - loss: 0.5248 - accuracy: 0.7341\n",
      "Epoch 73/150\n",
      "613/613 [==============================] - 0s 376us/step - loss: 0.5186 - accuracy: 0.7439\n",
      "Epoch 74/150\n",
      "613/613 [==============================] - 0s 393us/step - loss: 0.5525 - accuracy: 0.7276\n",
      "Epoch 75/150\n",
      "613/613 [==============================] - 0s 325us/step - loss: 0.5443 - accuracy: 0.7374\n",
      "Epoch 76/150\n",
      "613/613 [==============================] - 0s 280us/step - loss: 0.5410 - accuracy: 0.7096\n",
      "Epoch 77/150\n",
      "613/613 [==============================] - 0s 392us/step - loss: 0.5222 - accuracy: 0.7439\n",
      "Epoch 78/150\n",
      "613/613 [==============================] - 0s 433us/step - loss: 0.5146 - accuracy: 0.7667\n",
      "Epoch 79/150\n",
      "613/613 [==============================] - 0s 290us/step - loss: 0.5236 - accuracy: 0.7210\n",
      "Epoch 80/150\n",
      "613/613 [==============================] - 0s 374us/step - loss: 0.5368 - accuracy: 0.7390\n",
      "Epoch 81/150\n",
      "613/613 [==============================] - 0s 447us/step - loss: 0.5385 - accuracy: 0.7178\n",
      "Epoch 82/150\n",
      "613/613 [==============================] - 0s 318us/step - loss: 0.5241 - accuracy: 0.7341\n",
      "Epoch 83/150\n",
      "613/613 [==============================] - 0s 317us/step - loss: 0.5082 - accuracy: 0.7439\n",
      "Epoch 84/150\n",
      "613/613 [==============================] - 0s 405us/step - loss: 0.5214 - accuracy: 0.7439\n",
      "Epoch 85/150\n",
      "613/613 [==============================] - 0s 386us/step - loss: 0.5382 - accuracy: 0.7308\n",
      "Epoch 86/150\n",
      "613/613 [==============================] - 0s 402us/step - loss: 0.5138 - accuracy: 0.7635\n",
      "Epoch 87/150\n",
      "613/613 [==============================] - 0s 566us/step - loss: 0.5041 - accuracy: 0.7586\n",
      "Epoch 88/150\n",
      "613/613 [==============================] - 0s 288us/step - loss: 0.5089 - accuracy: 0.7504\n",
      "Epoch 89/150\n",
      "613/613 [==============================] - 0s 371us/step - loss: 0.5362 - accuracy: 0.7439\n",
      "Epoch 90/150\n",
      "613/613 [==============================] - 0s 511us/step - loss: 0.5410 - accuracy: 0.74550s - loss: 0.5421 - accuracy: 0.74\n",
      "Epoch 91/150\n",
      "613/613 [==============================] - 0s 345us/step - loss: 0.5052 - accuracy: 0.7520\n",
      "Epoch 92/150\n",
      "613/613 [==============================] - 0s 377us/step - loss: 0.5178 - accuracy: 0.7325\n",
      "Epoch 93/150\n",
      "613/613 [==============================] - 0s 405us/step - loss: 0.5192 - accuracy: 0.7455\n",
      "Epoch 94/150\n",
      "613/613 [==============================] - 0s 304us/step - loss: 0.5233 - accuracy: 0.7374\n",
      "Epoch 95/150\n",
      "613/613 [==============================] - 0s 390us/step - loss: 0.5133 - accuracy: 0.7406\n",
      "Epoch 96/150\n",
      "613/613 [==============================] - 0s 413us/step - loss: 0.5037 - accuracy: 0.7423\n",
      "Epoch 97/150\n",
      "613/613 [==============================] - 0s 582us/step - loss: 0.5089 - accuracy: 0.7471\n",
      "Epoch 98/150\n",
      "613/613 [==============================] - 0s 517us/step - loss: 0.5153 - accuracy: 0.7537\n",
      "Epoch 99/150\n",
      "613/613 [==============================] - 0s 420us/step - loss: 0.5030 - accuracy: 0.7651\n",
      "Epoch 100/150\n",
      "613/613 [==============================] - 0s 485us/step - loss: 0.4982 - accuracy: 0.7602\n",
      "Epoch 101/150\n",
      "613/613 [==============================] - 0s 392us/step - loss: 0.4943 - accuracy: 0.7439\n",
      "Epoch 102/150\n",
      "613/613 [==============================] - 0s 364us/step - loss: 0.4970 - accuracy: 0.7684\n",
      "Epoch 103/150\n",
      "613/613 [==============================] - 0s 457us/step - loss: 0.4969 - accuracy: 0.7618\n",
      "Epoch 104/150\n",
      "613/613 [==============================] - 0s 460us/step - loss: 0.5006 - accuracy: 0.7423\n",
      "Epoch 105/150\n",
      "613/613 [==============================] - 0s 389us/step - loss: 0.5166 - accuracy: 0.7406\n",
      "Epoch 106/150\n",
      "613/613 [==============================] - 0s 462us/step - loss: 0.5016 - accuracy: 0.7569\n",
      "Epoch 107/150\n",
      "613/613 [==============================] - 0s 334us/step - loss: 0.5129 - accuracy: 0.7569\n",
      "Epoch 108/150\n",
      "613/613 [==============================] - 0s 399us/step - loss: 0.5148 - accuracy: 0.7553\n",
      "Epoch 109/150\n",
      "613/613 [==============================] - 0s 379us/step - loss: 0.4991 - accuracy: 0.7684\n",
      "Epoch 110/150\n",
      "613/613 [==============================] - 0s 400us/step - loss: 0.5041 - accuracy: 0.7504\n",
      "Epoch 111/150\n",
      "613/613 [==============================] - 0s 358us/step - loss: 0.5051 - accuracy: 0.7488\n",
      "Epoch 112/150\n",
      "613/613 [==============================] - 0s 405us/step - loss: 0.5079 - accuracy: 0.7488\n",
      "Epoch 113/150\n",
      "613/613 [==============================] - 0s 286us/step - loss: 0.5084 - accuracy: 0.7537\n",
      "Epoch 114/150\n",
      "613/613 [==============================] - 0s 405us/step - loss: 0.4916 - accuracy: 0.7765\n",
      "Epoch 115/150\n",
      "613/613 [==============================] - 0s 366us/step - loss: 0.4977 - accuracy: 0.7471\n",
      "Epoch 116/150\n",
      "613/613 [==============================] - 0s 332us/step - loss: 0.4973 - accuracy: 0.7569\n",
      "Epoch 117/150\n",
      "613/613 [==============================] - 0s 334us/step - loss: 0.4990 - accuracy: 0.7423\n",
      "Epoch 118/150\n",
      "613/613 [==============================] - 0s 408us/step - loss: 0.4906 - accuracy: 0.7618\n",
      "Epoch 119/150\n",
      "613/613 [==============================] - 0s 441us/step - loss: 0.4850 - accuracy: 0.7749\n",
      "Epoch 120/150\n",
      "613/613 [==============================] - 0s 381us/step - loss: 0.4898 - accuracy: 0.7732\n",
      "Epoch 121/150\n",
      "613/613 [==============================] - 0s 348us/step - loss: 0.4947 - accuracy: 0.7488\n",
      "Epoch 122/150\n",
      "613/613 [==============================] - 0s 410us/step - loss: 0.4893 - accuracy: 0.7504\n",
      "Epoch 123/150\n",
      "613/613 [==============================] - 0s 283us/step - loss: 0.5000 - accuracy: 0.7471\n",
      "Epoch 124/150\n",
      "613/613 [==============================] - 0s 348us/step - loss: 0.5010 - accuracy: 0.7488\n",
      "Epoch 125/150\n",
      "613/613 [==============================] - 0s 434us/step - loss: 0.4984 - accuracy: 0.7586\n",
      "Epoch 126/150\n",
      "613/613 [==============================] - 0s 311us/step - loss: 0.4855 - accuracy: 0.7700\n",
      "Epoch 127/150\n",
      "613/613 [==============================] - 0s 353us/step - loss: 0.4818 - accuracy: 0.7732\n",
      "Epoch 128/150\n",
      "613/613 [==============================] - 0s 345us/step - loss: 0.4873 - accuracy: 0.7569\n",
      "Epoch 129/150\n",
      "613/613 [==============================] - 0s 293us/step - loss: 0.4899 - accuracy: 0.7781\n",
      "Epoch 130/150\n",
      "613/613 [==============================] - 0s 395us/step - loss: 0.4754 - accuracy: 0.7749\n",
      "Epoch 131/150\n",
      "613/613 [==============================] - 0s 421us/step - loss: 0.4929 - accuracy: 0.7520\n",
      "Epoch 132/150\n",
      "613/613 [==============================] - 0s 444us/step - loss: 0.4935 - accuracy: 0.7569\n",
      "Epoch 133/150\n",
      "613/613 [==============================] - 0s 321us/step - loss: 0.4716 - accuracy: 0.7732\n",
      "Epoch 134/150\n",
      "613/613 [==============================] - 0s 475us/step - loss: 0.4846 - accuracy: 0.7635\n",
      "Epoch 135/150\n",
      "613/613 [==============================] - 0s 447us/step - loss: 0.4855 - accuracy: 0.7586\n",
      "Epoch 136/150\n",
      "613/613 [==============================] - 0s 311us/step - loss: 0.4858 - accuracy: 0.7684\n",
      "Epoch 137/150\n",
      "613/613 [==============================] - 0s 312us/step - loss: 0.4874 - accuracy: 0.7700\n",
      "Epoch 138/150\n",
      "613/613 [==============================] - 0s 296us/step - loss: 0.4845 - accuracy: 0.7635\n",
      "Epoch 139/150\n",
      "613/613 [==============================] - 0s 386us/step - loss: 0.4757 - accuracy: 0.7732\n",
      "Epoch 140/150\n",
      "613/613 [==============================] - 0s 421us/step - loss: 0.4818 - accuracy: 0.7569\n",
      "Epoch 141/150\n",
      "613/613 [==============================] - 0s 335us/step - loss: 0.4854 - accuracy: 0.7569\n",
      "Epoch 142/150\n",
      "613/613 [==============================] - 0s 387us/step - loss: 0.4929 - accuracy: 0.7537\n",
      "Epoch 143/150\n",
      "613/613 [==============================] - 0s 369us/step - loss: 0.4872 - accuracy: 0.7667\n",
      "Epoch 144/150\n",
      "613/613 [==============================] - 0s 555us/step - loss: 0.4822 - accuracy: 0.7684\n",
      "Epoch 145/150\n",
      "613/613 [==============================] - 0s 413us/step - loss: 0.4837 - accuracy: 0.7635\n",
      "Epoch 146/150\n",
      "613/613 [==============================] - 0s 327us/step - loss: 0.4789 - accuracy: 0.7667\n",
      "Epoch 147/150\n",
      "613/613 [==============================] - 0s 327us/step - loss: 0.4784 - accuracy: 0.7651\n",
      "Epoch 148/150\n",
      "613/613 [==============================] - 0s 329us/step - loss: 0.4684 - accuracy: 0.7700\n",
      "Epoch 149/150\n",
      "613/613 [==============================] - 0s 327us/step - loss: 0.4724 - accuracy: 0.76510s - loss: 0.4716 - accuracy: 0.\n",
      "Epoch 150/150\n",
      "613/613 [==============================] - 0s 348us/step - loss: 0.4857 - accuracy: 0.7586\n"
     ]
    },
    {
     "data": {
      "text/plain": [
       "<keras.callbacks.callbacks.History at 0x254c2afd888>"
      ]
     },
     "execution_count": 56,
     "metadata": {},
     "output_type": "execute_result"
    }
   ],
   "source": [
    "model.fit(X_train,y_train, epochs =150, batch_size =10)"
   ]
  },
  {
   "cell_type": "code",
   "execution_count": 57,
   "metadata": {},
   "outputs": [
    {
     "name": "stdout",
     "output_type": "stream",
     "text": [
      "154/154 [==============================] - 0s 712us/step\n"
     ]
    }
   ],
   "source": [
    "_,accuracy = model.evaluate(X_test,y_test)"
   ]
  },
  {
   "cell_type": "code",
   "execution_count": 58,
   "metadata": {},
   "outputs": [
    {
     "name": "stdout",
     "output_type": "stream",
     "text": [
      "Accuracy : 72.07792401313782\n"
     ]
    }
   ],
   "source": [
    "print(f\"Accuracy : {accuracy*100}\")"
   ]
  },
  {
   "cell_type": "code",
   "execution_count": 59,
   "metadata": {},
   "outputs": [],
   "source": [
    "from sklearn.linear_model import LogisticRegression"
   ]
  },
  {
   "cell_type": "code",
   "execution_count": 60,
   "metadata": {},
   "outputs": [],
   "source": [
    "logmodel = LogisticRegression(C=1.0, class_weight=None, dual=False, fit_intercept=True,\n",
    "          intercept_scaling=1, max_iter=100, multi_class='ovr', n_jobs=1,\n",
    "          penalty='l2', random_state=None, solver='liblinear', tol=0.0001,\n",
    "          verbose=0, warm_start=False)"
   ]
  },
  {
   "cell_type": "code",
   "execution_count": 61,
   "metadata": {},
   "outputs": [
    {
     "data": {
      "text/plain": [
       "LogisticRegression(multi_class='ovr', n_jobs=1, solver='liblinear')"
      ]
     },
     "execution_count": 61,
     "metadata": {},
     "output_type": "execute_result"
    }
   ],
   "source": [
    "logmodel.fit(X_train,y_train)"
   ]
  },
  {
   "cell_type": "code",
   "execution_count": 62,
   "metadata": {},
   "outputs": [
    {
     "data": {
      "text/plain": [
       "array([0, 1, 1, 1, 0, 0, 0, 0, 0, 0, 0, 1, 0, 0, 0, 1, 0, 1, 0, 0, 1, 0,\n",
       "       1, 0, 1, 1, 0, 0, 0, 1, 0, 0, 1, 0, 0, 1, 1, 1, 0, 1, 0, 0, 0, 0,\n",
       "       0, 0, 0, 1, 0, 1, 0, 0, 0, 0, 0, 0, 0, 0, 1, 1, 0, 0, 0, 0, 0, 0,\n",
       "       0, 1, 0, 1, 0, 0, 0, 0, 1, 0, 0, 1, 0, 0, 0, 1, 0, 0, 1, 0, 0, 0,\n",
       "       1, 0, 1, 0, 1, 1, 0, 1, 0, 0, 1, 1, 0, 0, 1, 0, 0, 0, 0, 0, 0, 0,\n",
       "       1, 0, 0, 0, 1, 0, 0, 0, 0, 0, 1, 0, 0, 0, 0, 0, 1, 0, 0, 0, 0, 0,\n",
       "       0, 0, 1, 0, 0, 0, 1, 0, 0, 1, 1, 1, 0, 0, 0, 0, 0, 1, 0, 0, 0, 0],\n",
       "      dtype=int64)"
      ]
     },
     "execution_count": 62,
     "metadata": {},
     "output_type": "execute_result"
    }
   ],
   "source": [
    "predictions=logmodel.predict(X_test)\n",
    "predictions"
   ]
  },
  {
   "cell_type": "code",
   "execution_count": 63,
   "metadata": {},
   "outputs": [
    {
     "data": {
      "text/plain": [
       "765    1\n",
       "747    1\n",
       "42     1\n",
       "485    0\n",
       "543    0\n",
       "      ..\n",
       "602    1\n",
       "510    0\n",
       "171    0\n",
       "671    0\n",
       "298    0\n",
       "Name: 1, Length: 154, dtype: int64"
      ]
     },
     "execution_count": 63,
     "metadata": {},
     "output_type": "execute_result"
    }
   ],
   "source": [
    "y_test"
   ]
  },
  {
   "cell_type": "code",
   "execution_count": 64,
   "metadata": {},
   "outputs": [],
   "source": [
    "from sklearn.metrics import classification_report"
   ]
  },
  {
   "cell_type": "code",
   "execution_count": 65,
   "metadata": {},
   "outputs": [
    {
     "name": "stdout",
     "output_type": "stream",
     "text": [
      "              precision    recall  f1-score   support\n",
      "\n",
      "           0       0.77      0.86      0.81        99\n",
      "           1       0.68      0.55      0.61        55\n",
      "\n",
      "    accuracy                           0.75       154\n",
      "   macro avg       0.73      0.70      0.71       154\n",
      "weighted avg       0.74      0.75      0.74       154\n",
      "\n"
     ]
    }
   ],
   "source": [
    "print(classification_report(y_test,predictions))"
   ]
  },
  {
   "cell_type": "code",
   "execution_count": null,
   "metadata": {},
   "outputs": [],
   "source": []
  }
 ],
 "metadata": {
  "kernelspec": {
   "display_name": "Python 3",
   "language": "python",
   "name": "python3"
  },
  "language_info": {
   "codemirror_mode": {
    "name": "ipython",
    "version": 3
   },
   "file_extension": ".py",
   "mimetype": "text/x-python",
   "name": "python",
   "nbconvert_exporter": "python",
   "pygments_lexer": "ipython3",
   "version": "3.6.5"
  }
 },
 "nbformat": 4,
 "nbformat_minor": 4
}
